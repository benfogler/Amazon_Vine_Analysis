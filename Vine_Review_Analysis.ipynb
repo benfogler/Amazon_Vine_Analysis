{
  "nbformat": 4,
  "nbformat_minor": 0,
  "metadata": {
    "colab": {
      "provenance": [],
      "authorship_tag": "ABX9TyNBb6gWr/Bt7dcDzhZ20pVd",
      "include_colab_link": true
    },
    "kernelspec": {
      "name": "python3",
      "display_name": "Python 3"
    },
    "language_info": {
      "name": "python"
    }
  },
  "cells": [
    {
      "cell_type": "markdown",
      "metadata": {
        "id": "view-in-github",
        "colab_type": "text"
      },
      "source": [
        "<a href=\"https://colab.research.google.com/github/benfogler/Amazon_Vine_Analysis/blob/main/Vine_Review_Analysis.ipynb\" target=\"_parent\"><img src=\"https://colab.research.google.com/assets/colab-badge.svg\" alt=\"Open In Colab\"/></a>"
      ]
    },
    {
      "cell_type": "code",
      "execution_count": 2,
      "metadata": {
        "colab": {
          "base_uri": "https://localhost:8080/"
        },
        "id": "vqK87dYlHl8m",
        "outputId": "69f39edd-0bae-4cb7-c72f-fc5006085aee"
      },
      "outputs": [
        {
          "output_type": "stream",
          "name": "stdout",
          "text": [
            "\r0% [Working]\r            \rIgn:1 https://developer.download.nvidia.com/compute/machine-learning/repos/ubuntu2004/x86_64  InRelease\n",
            "Hit:2 https://developer.download.nvidia.com/compute/cuda/repos/ubuntu2004/x86_64  InRelease\n",
            "Hit:3 https://developer.download.nvidia.com/compute/machine-learning/repos/ubuntu2004/x86_64  Release\n",
            "Get:4 https://cloud.r-project.org/bin/linux/ubuntu focal-cran40/ InRelease [3,622 B]\n",
            "Hit:5 http://ppa.launchpad.net/c2d4u.team/c2d4u4.0+/ubuntu focal InRelease\n",
            "Hit:6 http://archive.ubuntu.com/ubuntu focal InRelease\n",
            "Get:7 http://security.ubuntu.com/ubuntu focal-security InRelease [114 kB]\n",
            "Get:8 http://archive.ubuntu.com/ubuntu focal-updates InRelease [114 kB]\n",
            "Hit:10 http://ppa.launchpad.net/cran/libgit2/ubuntu focal InRelease\n",
            "Get:11 http://ppa.launchpad.net/deadsnakes/ppa/ubuntu focal InRelease [18.1 kB]\n",
            "Get:12 http://archive.ubuntu.com/ubuntu focal-backports InRelease [108 kB]\n",
            "Hit:13 http://ppa.launchpad.net/graphics-drivers/ppa/ubuntu focal InRelease\n",
            "Get:14 http://security.ubuntu.com/ubuntu focal-security/main amd64 Packages [2,479 kB]\n",
            "Get:15 http://archive.ubuntu.com/ubuntu focal-updates/restricted amd64 Packages [2,050 kB]\n",
            "Get:16 http://ppa.launchpad.net/deadsnakes/ppa/ubuntu focal/main amd64 Packages [29.5 kB]\n",
            "Get:17 http://archive.ubuntu.com/ubuntu focal-updates/universe amd64 Packages [1,295 kB]\n",
            "Get:18 http://archive.ubuntu.com/ubuntu focal-updates/main amd64 Packages [2,952 kB]\n",
            "Fetched 9,163 kB in 2s (3,760 kB/s)\n",
            "Reading package lists... Done\n"
          ]
        }
      ],
      "source": [
        "import os\n",
        "# Find the latest version of spark 3.2 from http://www.apache.org/dist/spark/ and enter as the spark version\n",
        "# For example:\n",
        "# spark_version = 'spark-3.2.3'\n",
        "spark_version = 'spark-3.2.3'\n",
        "os.environ['SPARK_VERSION']=spark_version\n",
        "\n",
        "# Install Spark and Java\n",
        "!apt-get update\n",
        "!apt-get install openjdk-11-jdk-headless -qq > /dev/null\n",
        "!wget -q http://www.apache.org/dist/spark/$SPARK_VERSION/$SPARK_VERSION-bin-hadoop2.7.tgz\n",
        "!tar xf $SPARK_VERSION-bin-hadoop2.7.tgz\n",
        "!pip install -q findspark\n",
        "\n",
        "# Set Environment Variables\n",
        "import os\n",
        "os.environ[\"JAVA_HOME\"] = \"/usr/lib/jvm/java-11-openjdk-amd64\"\n",
        "os.environ[\"SPARK_HOME\"] = f\"/content/{spark_version}-bin-hadoop2.7\"\n",
        "\n",
        "# Start a SparkSession\n",
        "import findspark\n",
        "findspark.init()"
      ]
    },
    {
      "cell_type": "code",
      "source": [
        "from pyspark.sql.types import IntegerType"
      ],
      "metadata": {
        "id": "EROJjQd-H0dQ"
      },
      "execution_count": 3,
      "outputs": []
    },
    {
      "cell_type": "code",
      "source": [
        "# Download the Postgres driver that will allow Spark to interact with Postgres.\n",
        "!wget https://jdbc.postgresql.org/download/postgresql-42.2.16.jar"
      ],
      "metadata": {
        "colab": {
          "base_uri": "https://localhost:8080/"
        },
        "id": "P2oaa9A7IA9A",
        "outputId": "659f64f8-6dfa-4660-cf9e-003704c2d1df"
      },
      "execution_count": 4,
      "outputs": [
        {
          "output_type": "stream",
          "name": "stdout",
          "text": [
            "--2023-02-12 19:35:46--  https://jdbc.postgresql.org/download/postgresql-42.2.16.jar\n",
            "Resolving jdbc.postgresql.org (jdbc.postgresql.org)... 72.32.157.228, 2001:4800:3e1:1::228\n",
            "Connecting to jdbc.postgresql.org (jdbc.postgresql.org)|72.32.157.228|:443... connected.\n",
            "HTTP request sent, awaiting response... 200 OK\n",
            "Length: 1002883 (979K) [application/java-archive]\n",
            "Saving to: ‘postgresql-42.2.16.jar’\n",
            "\n",
            "postgresql-42.2.16. 100%[===================>] 979.38K  --.-KB/s    in 0.08s   \n",
            "\n",
            "2023-02-12 19:35:46 (11.4 MB/s) - ‘postgresql-42.2.16.jar’ saved [1002883/1002883]\n",
            "\n"
          ]
        }
      ]
    },
    {
      "cell_type": "code",
      "source": [
        "from pyspark.sql import SparkSession\n",
        "spark = SparkSession.builder.appName(\"M17-Amazon-Challenge\").config(\"spark.driver.extraClassPath\",\"/content/postgresql-42.2.16.jar\").getOrCreate()"
      ],
      "metadata": {
        "id": "xVNia3WGIEsA"
      },
      "execution_count": 5,
      "outputs": []
    },
    {
      "cell_type": "code",
      "source": [
        "from pyspark import SparkFiles\n",
        "url = \"https://s3.amazonaws.com/amazon-reviews-pds/tsv/amazon_reviews_us_Automotive_v1_00.tsv.gz\"\n",
        "spark.sparkContext.addFile(url)\n",
        "df = spark.read.option(\"encoding\", \"UTF-8\").csv(SparkFiles.get(\"\"), sep=\"\\t\", header=True, inferSchema=True)\n",
        "df.show()"
      ],
      "metadata": {
        "colab": {
          "base_uri": "https://localhost:8080/"
        },
        "id": "LTuYNlHGIQBB",
        "outputId": "732c3783-01cb-439b-b18d-128e524d274f"
      },
      "execution_count": 6,
      "outputs": [
        {
          "output_type": "stream",
          "name": "stdout",
          "text": [
            "+-----------+-----------+--------------+----------+--------------+--------------------+----------------+-----------+-------------+-----------+----+-----------------+--------------------+--------------------+-----------+\n",
            "|marketplace|customer_id|     review_id|product_id|product_parent|       product_title|product_category|star_rating|helpful_votes|total_votes|vine|verified_purchase|     review_headline|         review_body|review_date|\n",
            "+-----------+-----------+--------------+----------+--------------+--------------------+----------------+-----------+-------------+-----------+----+-----------------+--------------------+--------------------+-----------+\n",
            "|         US|   36075342| RAB23OVFNCXZQ|B00LPRXQ4Y|     339193102|17\" 2003-2006 For...|      Automotive|          1|            0|          0|   N|                Y|     As it was used,|As it was used, t...| 2015-08-31|\n",
            "|         US|   42462164|R3NORADVJO6IE6|B000C7S0TO|     907684644|Spectra Premium C...|      Automotive|          5|            0|          0|   N|                Y|          Five Stars|Put it in fine, n...| 2015-08-31|\n",
            "|         US|   21241933|R299F4SO98S5OO|B000CO9WE4|     752246352|K&N E-4665 High P...|      Automotive|          5|            1|          1|   N|                Y|Great fit and per...|Fit wonderfully o...| 2015-08-31|\n",
            "|         US|   52570308|R2DA9DOT03UW6I|B000GKD5NI|     105401756|Suncutters Rear W...|      Automotive|          5|            2|          3|   N|                Y|Good for the pric...|Good for the pric...| 2015-08-31|\n",
            "|         US|   38200102|R2OGCH681EQHU6|B009SDA7TE|     728471129|Lug Nuts Landcrui...|      Automotive|          5|            0|          0|   N|                Y|          Five Stars|Fit perfectly on ...| 2015-08-31|\n",
            "|         US|   34866169| R2JMKIC16MHD7|B00KV15KRG|     962286893|Fits 2007-2009 Ho...|      Automotive|          5|            2|          2|   N|                Y|Fit Well and Bett...|Product fits well...| 2015-08-31|\n",
            "|         US|     184627|R1DB5DA7CWWTI8|B0002JMAKW|     267002949|Castrol 12614 Dot...|      Automotive|          5|            0|          0|   N|                Y|convenient, fast ...|convenient ,fast ...| 2015-08-31|\n",
            "|         US|    2975964|R1N8XWFDK4QACP|B00XJKMM6S|     570789093|New Power Window ...|      Automotive|          5|            0|          0|   N|                Y|          Five Stars|             is good| 2015-08-31|\n",
            "|         US|   40946484|R19VFLX6MRU0CX|B000C5CEKC|     389524802|Motorad MGC-791 L...|      Automotive|          5|            0|          0|   N|                Y|GOOD deal.  Great...|wonderful.  if yo...| 2015-08-31|\n",
            "|         US|   12554469| RLTD8YDGTP9PT|B00GD9R2A8|      21425394|Genuine Ford AL3Z...|      Automotive|          1|            0|          0|   N|                Y|Does not fit my F...|Does not work wit...| 2015-08-31|\n",
            "|         US|   35335277| R78B5LCFJ52SR|B00RM327NG|     816815445|Air Vent Smartpho...|      Automotive|          4|            0|          0|   N|                Y|            Not bad!|I really loved th...| 2015-08-31|\n",
            "|         US|   44957003|R33SKWL0HEQIQ9|B0071NL7UQ|     192225755|FDJ New Replaceme...|      Automotive|          5|            0|          0|   N|                Y|          Five Stars| Just what I wanted.| 2015-08-31|\n",
            "|         US|     444125|R1HIOV0UX7P13D|B00DSOL0FY|     849414056|Omix-Ada 17402.09...|      Automotive|          5|            0|          0|   N|                Y|          Five Stars|Great product and...| 2015-08-31|\n",
            "|         US|   35829199| R4WS0E0MSP9DH|B00GRV48TK|     651316983|GMB 530-2480 Fuel...|      Automotive|          5|            2|          2|   N|                Y|           Well made|Appears to be wel...| 2015-08-31|\n",
            "|         US|   16825098| R2RUIDUMDKG7P|B000E4PCGE|     694793259|00-03 NISSAN SENT...|      Automotive|          3|            0|          0|   N|                Y|new and a great l...|Product was as de...| 2015-08-31|\n",
            "|         US|    2583392| RZSA6L4M4D4XA|B005Z8HAUK|     732072782|Slime 40026 2X He...|      Automotive|          5|            0|          0|   N|                Y|          Five Stars|SO much quieter t...| 2015-08-31|\n",
            "|         US|   10127903|R1O3NGQNCFXKR6|B0043AV4NK|     533179941|MegaBrand N1 4\" B...|      Automotive|          5|            0|          0|   N|                Y|              decent|Great for the pri...| 2015-08-31|\n",
            "|         US|   17937309|R2IEM66RCBJ95A|B00CDHD76C|     126169507|Jackly 45-in-One ...|      Automotive|          5|            0|          0|   N|                Y|Nice set of tools...|Nice set of tools...| 2015-08-31|\n",
            "|         US|   17145638|R2BQ9O517KSCP8|B000CF1XO0|     475232737|Bosch 3397118942 ...|      Automotive|          5|            0|          0|   N|                N|          Five Stars|       Everything ok| 2015-08-31|\n",
            "|         US|   32813839|R1KF86427VR7AC|B003VLBPJA|     897802619|Heavy-Duty 15\" Ca...|      Automotive|          3|            0|          0|   N|                Y|         Three Stars|I hope the hooks ...| 2015-08-31|\n",
            "+-----------+-----------+--------------+----------+--------------+--------------------+----------------+-----------+-------------+-----------+----+-----------------+--------------------+--------------------+-----------+\n",
            "only showing top 20 rows\n",
            "\n"
          ]
        }
      ]
    },
    {
      "cell_type": "code",
      "source": [
        "vine_df = df.select([\"review_id\",\"star_rating\",\"helpful_votes\",\"total_votes\",\"vine\",\"verified_purchase\"])\n",
        "vine_df.show()"
      ],
      "metadata": {
        "colab": {
          "base_uri": "https://localhost:8080/"
        },
        "id": "eI-zbBsBJNBw",
        "outputId": "01e67286-89be-44db-c3da-8471edb72c35"
      },
      "execution_count": 7,
      "outputs": [
        {
          "output_type": "stream",
          "name": "stdout",
          "text": [
            "+--------------+-----------+-------------+-----------+----+-----------------+\n",
            "|     review_id|star_rating|helpful_votes|total_votes|vine|verified_purchase|\n",
            "+--------------+-----------+-------------+-----------+----+-----------------+\n",
            "| RAB23OVFNCXZQ|          1|            0|          0|   N|                Y|\n",
            "|R3NORADVJO6IE6|          5|            0|          0|   N|                Y|\n",
            "|R299F4SO98S5OO|          5|            1|          1|   N|                Y|\n",
            "|R2DA9DOT03UW6I|          5|            2|          3|   N|                Y|\n",
            "|R2OGCH681EQHU6|          5|            0|          0|   N|                Y|\n",
            "| R2JMKIC16MHD7|          5|            2|          2|   N|                Y|\n",
            "|R1DB5DA7CWWTI8|          5|            0|          0|   N|                Y|\n",
            "|R1N8XWFDK4QACP|          5|            0|          0|   N|                Y|\n",
            "|R19VFLX6MRU0CX|          5|            0|          0|   N|                Y|\n",
            "| RLTD8YDGTP9PT|          1|            0|          0|   N|                Y|\n",
            "| R78B5LCFJ52SR|          4|            0|          0|   N|                Y|\n",
            "|R33SKWL0HEQIQ9|          5|            0|          0|   N|                Y|\n",
            "|R1HIOV0UX7P13D|          5|            0|          0|   N|                Y|\n",
            "| R4WS0E0MSP9DH|          5|            2|          2|   N|                Y|\n",
            "| R2RUIDUMDKG7P|          3|            0|          0|   N|                Y|\n",
            "| RZSA6L4M4D4XA|          5|            0|          0|   N|                Y|\n",
            "|R1O3NGQNCFXKR6|          5|            0|          0|   N|                Y|\n",
            "|R2IEM66RCBJ95A|          5|            0|          0|   N|                Y|\n",
            "|R2BQ9O517KSCP8|          5|            0|          0|   N|                N|\n",
            "|R1KF86427VR7AC|          3|            0|          0|   N|                Y|\n",
            "+--------------+-----------+-------------+-----------+----+-----------------+\n",
            "only showing top 20 rows\n",
            "\n"
          ]
        }
      ]
    },
    {
      "cell_type": "code",
      "source": [
        "# Filter the data and create a new DataFrame or table to retrieve all the rows where the total_votes\n",
        "# count is equal to or greater than 20 to pick reviews that are more likely to be helpful and to avoid having division by zero errors later on.\n",
        "total_votes_df = vine_df.filter(vine_df.total_votes >= 20)\n",
        "total_votes_df.show()\n",
        "\n"
      ],
      "metadata": {
        "colab": {
          "base_uri": "https://localhost:8080/"
        },
        "id": "I0NTYY0MI2wo",
        "outputId": "23226d9c-7190-4087-e244-cbbc145dee2f"
      },
      "execution_count": 8,
      "outputs": [
        {
          "output_type": "stream",
          "name": "stdout",
          "text": [
            "+--------------+-----------+-------------+-----------+----+-----------------+\n",
            "|     review_id|star_rating|helpful_votes|total_votes|vine|verified_purchase|\n",
            "+--------------+-----------+-------------+-----------+----+-----------------+\n",
            "|R1T4FVSABO0IDP|          5|            8|         31|   N|                Y|\n",
            "|R397VXR1GAK6C9|          5|           21|         21|   N|                Y|\n",
            "|R2H6KB9RHS17GA|          3|           59|         69|   N|                Y|\n",
            "|R3HAK0MUN9F5IT|          1|            6|         28|   N|                Y|\n",
            "|R29UTZTOPUVRSV|          5|           21|         21|   N|                Y|\n",
            "| RY9FLUD8VG6XD|          4|           27|         32|   N|                Y|\n",
            "|R3Q5NAY8BGAKHI|          5|           34|         40|   N|                Y|\n",
            "| RRVJ7TYDEK7EO|          5|           30|         30|   N|                Y|\n",
            "|R2S4CHISQA2WDH|          5|           17|         20|   N|                Y|\n",
            "|R1JNALJ77OULPH|          4|           57|         65|   N|                Y|\n",
            "|R13YNG792BCR77|          5|           19|         20|   N|                Y|\n",
            "|R1RYG8MVOPK4Q2|          5|           18|         20|   N|                Y|\n",
            "|R2V9VX4YQ8TQ24|          5|           33|         36|   N|                Y|\n",
            "|R2UCJ0GANHZVA8|          5|           21|         21|   N|                Y|\n",
            "| R8MJZ3925MBK0|          5|           96|         98|   N|                Y|\n",
            "|R378YNR0LMM3DP|          2|           41|         47|   N|                Y|\n",
            "|R2UIEYEJPJC9EM|          5|           64|         70|   N|                N|\n",
            "| RX2K8ERZ5BENR|          5|           52|         56|   N|                Y|\n",
            "|R34VOML4JURU4E|          1|           34|         35|   N|                Y|\n",
            "|R21FPJN76XM6J8|          3|           43|         52|   N|                Y|\n",
            "+--------------+-----------+-------------+-----------+----+-----------------+\n",
            "only showing top 20 rows\n",
            "\n"
          ]
        }
      ]
    },
    {
      "cell_type": "code",
      "source": [
        "helpful_votes_df = total_votes_df.filter((total_votes_df.helpful_votes / total_votes_df.total_votes)  >= 0.5)\n",
        "helpful_votes_df.show()"
      ],
      "metadata": {
        "colab": {
          "base_uri": "https://localhost:8080/"
        },
        "id": "gWxjO6v9Jabg",
        "outputId": "b52f116d-1a1b-4f78-80c6-5f9b8c379097"
      },
      "execution_count": 9,
      "outputs": [
        {
          "output_type": "stream",
          "name": "stdout",
          "text": [
            "+--------------+-----------+-------------+-----------+----+-----------------+\n",
            "|     review_id|star_rating|helpful_votes|total_votes|vine|verified_purchase|\n",
            "+--------------+-----------+-------------+-----------+----+-----------------+\n",
            "|R397VXR1GAK6C9|          5|           21|         21|   N|                Y|\n",
            "|R2H6KB9RHS17GA|          3|           59|         69|   N|                Y|\n",
            "|R29UTZTOPUVRSV|          5|           21|         21|   N|                Y|\n",
            "| RY9FLUD8VG6XD|          4|           27|         32|   N|                Y|\n",
            "|R3Q5NAY8BGAKHI|          5|           34|         40|   N|                Y|\n",
            "| RRVJ7TYDEK7EO|          5|           30|         30|   N|                Y|\n",
            "|R2S4CHISQA2WDH|          5|           17|         20|   N|                Y|\n",
            "|R1JNALJ77OULPH|          4|           57|         65|   N|                Y|\n",
            "|R13YNG792BCR77|          5|           19|         20|   N|                Y|\n",
            "|R1RYG8MVOPK4Q2|          5|           18|         20|   N|                Y|\n",
            "|R2V9VX4YQ8TQ24|          5|           33|         36|   N|                Y|\n",
            "|R2UCJ0GANHZVA8|          5|           21|         21|   N|                Y|\n",
            "| R8MJZ3925MBK0|          5|           96|         98|   N|                Y|\n",
            "|R378YNR0LMM3DP|          2|           41|         47|   N|                Y|\n",
            "|R2UIEYEJPJC9EM|          5|           64|         70|   N|                N|\n",
            "| RX2K8ERZ5BENR|          5|           52|         56|   N|                Y|\n",
            "|R34VOML4JURU4E|          1|           34|         35|   N|                Y|\n",
            "|R21FPJN76XM6J8|          3|           43|         52|   N|                Y|\n",
            "|R1YMR7QJ7OR3DE|          1|           21|         22|   N|                Y|\n",
            "|R104OMNNT1A7HJ|          5|           20|         24|   N|                Y|\n",
            "+--------------+-----------+-------------+-----------+----+-----------------+\n",
            "only showing top 20 rows\n",
            "\n"
          ]
        }
      ]
    },
    {
      "cell_type": "code",
      "source": [
        "paid_review_df = helpful_votes_df.filter(helpful_votes_df.vine == 'Y')\n",
        "paid_review_df.show()\n",
        "     "
      ],
      "metadata": {
        "colab": {
          "base_uri": "https://localhost:8080/"
        },
        "id": "s9IwyU8DJkLZ",
        "outputId": "f66f29f1-51e3-4dba-9e75-637d2c82518d"
      },
      "execution_count": 10,
      "outputs": [
        {
          "output_type": "stream",
          "name": "stdout",
          "text": [
            "+--------------+-----------+-------------+-----------+----+-----------------+\n",
            "|     review_id|star_rating|helpful_votes|total_votes|vine|verified_purchase|\n",
            "+--------------+-----------+-------------+-----------+----+-----------------+\n",
            "| REKN4PLM5174P|          4|          219|        225|   Y|                N|\n",
            "| RQOG8IIJX7CKB|          4|           21|         27|   Y|                N|\n",
            "|R33EJ9PSZR13CM|          4|           26|         30|   Y|                N|\n",
            "| RD2BFV896F321|          5|           16|         20|   Y|                N|\n",
            "|R37GSXLA11XF8N|          5|           30|         34|   Y|                N|\n",
            "| RQBQYBM9VMSH4|          5|           19|         20|   Y|                N|\n",
            "|R2YE4F9ESKFWEK|          3|           20|         23|   Y|                N|\n",
            "|R1E4L7HHB8TBP9|          4|           80|         92|   Y|                N|\n",
            "|R2C2WXDXMZL005|          2|           20|         25|   Y|                N|\n",
            "|R1PPY4U0K03KTE|          5|           31|         38|   Y|                N|\n",
            "|R12SMR88Q45MWQ|          3|           23|         24|   Y|                N|\n",
            "|R188VWFDBDWRR0|          4|           35|         38|   Y|                N|\n",
            "| RUE8J5M74KJUP|          1|           37|         42|   Y|                N|\n",
            "|R3IMZIN7Y64IP1|          1|           19|         23|   Y|                N|\n",
            "|R17RGR2YSZ5UDG|          4|           19|         24|   Y|                N|\n",
            "|R2SBNSIBLPIIG6|          4|           47|         53|   Y|                N|\n",
            "|R197MLUGNBO8SK|          5|           24|         29|   Y|                N|\n",
            "|R21QBM40D91D00|          3|           18|         25|   Y|                N|\n",
            "|R1Z5U87WQ4LVJG|          4|           89|        101|   Y|                N|\n",
            "| RAT9CVRLRHXQZ|          5|           50|         54|   Y|                N|\n",
            "+--------------+-----------+-------------+-----------+----+-----------------+\n",
            "only showing top 20 rows\n",
            "\n"
          ]
        }
      ]
    },
    {
      "cell_type": "code",
      "source": [
        "unpaid_review_df = helpful_votes_df.filter(helpful_votes_df.vine == 'N')\n",
        "unpaid_review_df.show()\n",
        "     "
      ],
      "metadata": {
        "colab": {
          "base_uri": "https://localhost:8080/"
        },
        "id": "rXbWnmi_JuKw",
        "outputId": "079760f2-d4a2-4773-f5fc-efbe7d072b5d"
      },
      "execution_count": 11,
      "outputs": [
        {
          "output_type": "stream",
          "name": "stdout",
          "text": [
            "+--------------+-----------+-------------+-----------+----+-----------------+\n",
            "|     review_id|star_rating|helpful_votes|total_votes|vine|verified_purchase|\n",
            "+--------------+-----------+-------------+-----------+----+-----------------+\n",
            "|R397VXR1GAK6C9|          5|           21|         21|   N|                Y|\n",
            "|R2H6KB9RHS17GA|          3|           59|         69|   N|                Y|\n",
            "|R29UTZTOPUVRSV|          5|           21|         21|   N|                Y|\n",
            "| RY9FLUD8VG6XD|          4|           27|         32|   N|                Y|\n",
            "|R3Q5NAY8BGAKHI|          5|           34|         40|   N|                Y|\n",
            "| RRVJ7TYDEK7EO|          5|           30|         30|   N|                Y|\n",
            "|R2S4CHISQA2WDH|          5|           17|         20|   N|                Y|\n",
            "|R1JNALJ77OULPH|          4|           57|         65|   N|                Y|\n",
            "|R13YNG792BCR77|          5|           19|         20|   N|                Y|\n",
            "|R1RYG8MVOPK4Q2|          5|           18|         20|   N|                Y|\n",
            "|R2V9VX4YQ8TQ24|          5|           33|         36|   N|                Y|\n",
            "|R2UCJ0GANHZVA8|          5|           21|         21|   N|                Y|\n",
            "| R8MJZ3925MBK0|          5|           96|         98|   N|                Y|\n",
            "|R378YNR0LMM3DP|          2|           41|         47|   N|                Y|\n",
            "|R2UIEYEJPJC9EM|          5|           64|         70|   N|                N|\n",
            "| RX2K8ERZ5BENR|          5|           52|         56|   N|                Y|\n",
            "|R34VOML4JURU4E|          1|           34|         35|   N|                Y|\n",
            "|R21FPJN76XM6J8|          3|           43|         52|   N|                Y|\n",
            "|R1YMR7QJ7OR3DE|          1|           21|         22|   N|                Y|\n",
            "|R104OMNNT1A7HJ|          5|           20|         24|   N|                Y|\n",
            "+--------------+-----------+-------------+-----------+----+-----------------+\n",
            "only showing top 20 rows\n",
            "\n"
          ]
        }
      ]
    },
    {
      "cell_type": "code",
      "source": [
        "total_paid_reviews_df = paid_review_df.count()\n",
        "total_paid_reviews_df"
      ],
      "metadata": {
        "colab": {
          "base_uri": "https://localhost:8080/"
        },
        "id": "JSJhA0QnJ1pf",
        "outputId": "dd7f3394-1216-439f-8341-412c54b428eb"
      },
      "execution_count": 12,
      "outputs": [
        {
          "output_type": "execute_result",
          "data": {
            "text/plain": [
              "82"
            ]
          },
          "metadata": {},
          "execution_count": 12
        }
      ]
    },
    {
      "cell_type": "code",
      "source": [
        "five_star_paid = paid_review_df.filter(paid_review_df.star_rating == 5).count()\n",
        "five_star_paid\n",
        "     "
      ],
      "metadata": {
        "colab": {
          "base_uri": "https://localhost:8080/"
        },
        "id": "UNVhWt8MJ3WB",
        "outputId": "6c491b61-1c4b-4080-a76c-be618814d16d"
      },
      "execution_count": 13,
      "outputs": [
        {
          "output_type": "execute_result",
          "data": {
            "text/plain": [
              "33"
            ]
          },
          "metadata": {},
          "execution_count": 13
        }
      ]
    },
    {
      "cell_type": "code",
      "source": [
        "percentage_five_star_paid = (five_star_paid / total_paid_reviews_df) * 100\n",
        "percentage_five_star_paid"
      ],
      "metadata": {
        "colab": {
          "base_uri": "https://localhost:8080/"
        },
        "id": "-jMj27C5J3fG",
        "outputId": "2c41274f-c060-411a-85e6-fa7dea297758"
      },
      "execution_count": 14,
      "outputs": [
        {
          "output_type": "execute_result",
          "data": {
            "text/plain": [
              "40.243902439024396"
            ]
          },
          "metadata": {},
          "execution_count": 14
        }
      ]
    },
    {
      "cell_type": "code",
      "source": [
        "total_unpaid_reviews_df = unpaid_review_df.count()\n",
        "total_unpaid_reviews_df\n",
        "     "
      ],
      "metadata": {
        "colab": {
          "base_uri": "https://localhost:8080/"
        },
        "id": "c3EtWO7ZJ3mI",
        "outputId": "499130ce-19b2-41a8-ef71-381a4e004f57"
      },
      "execution_count": 15,
      "outputs": [
        {
          "output_type": "execute_result",
          "data": {
            "text/plain": [
              "24742"
            ]
          },
          "metadata": {},
          "execution_count": 15
        }
      ]
    },
    {
      "cell_type": "code",
      "source": [
        "five_star_unpaid = unpaid_review_df.filter(unpaid_review_df.star_rating == 5).count()\n",
        "five_star_unpaid"
      ],
      "metadata": {
        "colab": {
          "base_uri": "https://localhost:8080/"
        },
        "id": "8ceTJj-nJ3sP",
        "outputId": "57c3b4d3-4cdb-4680-8f8b-354fcb4bd2e0"
      },
      "execution_count": 16,
      "outputs": [
        {
          "output_type": "execute_result",
          "data": {
            "text/plain": [
              "12807"
            ]
          },
          "metadata": {},
          "execution_count": 16
        }
      ]
    },
    {
      "cell_type": "code",
      "source": [
        "percentage_five_star_unpaid = (five_star_unpaid / total_unpaid_reviews_df) * 100\n",
        "percentage_five_star_unpaid\n",
        "     "
      ],
      "metadata": {
        "colab": {
          "base_uri": "https://localhost:8080/"
        },
        "id": "HsxEN0dpJ3xH",
        "outputId": "6b833d51-5457-4bef-f52c-cf5b1839a124"
      },
      "execution_count": 17,
      "outputs": [
        {
          "output_type": "execute_result",
          "data": {
            "text/plain": [
              "51.76218575701237"
            ]
          },
          "metadata": {},
          "execution_count": 17
        }
      ]
    }
  ]
}